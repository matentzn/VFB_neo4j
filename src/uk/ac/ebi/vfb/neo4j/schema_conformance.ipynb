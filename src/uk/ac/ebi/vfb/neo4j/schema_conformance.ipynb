{
 "cells": [
  {
   "cell_type": "code",
   "execution_count": 112,
   "metadata": {},
   "outputs": [],
   "source": [
    "import yaml\n",
    "import sys\n",
    "import warnings\n",
    "import json\n",
    "import flatdict\n",
    "from neo4j_tools import neo4j_connect,  results_2_dict_list\n",
    "\n",
    "config = yaml.load(open('schema/neo_schema.yml'))\n",
    "nc = neo4j_connect(config['url'], config['usr'], config['pwd'])\n",
    "schema = config['schema']"
   ]
  },
  {
   "cell_type": "code",
   "execution_count": 113,
   "metadata": {},
   "outputs": [],
   "source": [
    "class Test:\n",
    "    def __init__(self, ds, schema):\n",
    "        self.ds = ds\n",
    "        self.base_match = schema_map(schema)\n",
    "        self.base_match_extended = self.base_match + \"<-[:Related { short_form: 'depicts' }]-(j:Individual)\"\n",
    "        \n",
    "        self.base_final = \" WHERE ds.label = '%s' RETURN COUNT (DISTINCT i) as ind_count\" \\\n",
    "                    \", COLLECT(i.short_form) as ind_list\" % ds\n",
    "   \n",
    "        self.base_query = self.base_match + self.base_final\n",
    "        self.base_query_extended = self.base_match_extended + self.base_final\n",
    "        self.comparison_query = self.base_query\n",
    "        \n",
    "    def set_extended_base_comparison_query(self,extended_match):\n",
    "        self.comparison_query = self.base_match_extended + extended_match + self.base_final\n",
    "\n",
    "    def set_base_comparison_query(self,extended_match):\n",
    "        self.comparison_query = self.base_match + extended_match + self.base_final\n",
    "        \n",
    "    def set_description(self,description):\n",
    "        self.description = description\n",
    "    \n",
    "    def test(self):\n",
    "        return compare(dataset=self.ds,\n",
    "                       description=self.description,\n",
    "                       query1=self.base_query,\n",
    "                       query2=self.comparison_query)\n"
   ]
  },
  {
   "cell_type": "code",
   "execution_count": 114,
   "metadata": {
    "collapsed": true
   },
   "outputs": [],
   "source": [
    "def schema_map(x):\n",
    "    return {\n",
    "        'old': \"MATCH (ds:DataSet)<-[:has_source]-(i:Individual)\",\n",
    "        'new': \"MATCH (ds:DataSet)<-[:Annotation { short_form: 'source'}]-(i:Individual)\"\n",
    "    }.get(x,\"MATCH (ds:DataSet)<-[:has_source]-(i:Individual)\")\n",
    "    \n",
    "def write_returncode(test_failed):\n",
    "    if test_failed:\n",
    "        returncode = '1'\n",
    "    else: \n",
    "        returncode = '0'\n",
    "    \n",
    "    with open(\"schemaconformance.txt\", \"w\") as text_file:\n",
    "        print(f\"{returncode}\", file=text_file)\n",
    "\n",
    "def query(query):\n",
    "    q = nc.commit_list([query])\n",
    "    if not q:\n",
    "        return False\n",
    "    dc = results_2_dict_list(q)\n",
    "    if not dc:\n",
    "        return False\n",
    "    else:\n",
    "        return dc\n",
    "\n",
    "def query_ind_count(query):\n",
    "    q = nc.commit_list([query])\n",
    "    if not q:\n",
    "        return False\n",
    "    dc = results_2_dict_list(q)\n",
    "    if not dc:\n",
    "        return False\n",
    "    if not ('ind_count' in dc[0].keys()):\n",
    "        warnings.warn(\"Query has no ind_count\")\n",
    "        return False\n",
    "    else:\n",
    "        return dc[0]['ind_count']\n",
    "\n",
    "def runtest(ds, description, expanded_base_comparison_query, extend_base, out):\n",
    "    for d in dc:\n",
    "        ds = d['ds.label']\n",
    "        #print (\"Testing: \" + ds)\n",
    "        t = Test(ds,schema)\n",
    "        t.set_description(description)\n",
    "        if extend_base:\n",
    "            t.set_base_comparison_query(expanded_base_comparison_query)\n",
    "        else:\n",
    "            t.set_extended_base_comparison_query(expanded_base_comparison_query)\n",
    "\n",
    "        out[ds][description] = t.test() \n",
    "    \n",
    "def compare(dataset, description, query1, query2, verbose = False, write_reports = False):\n",
    "    r1 = query(query1)[0]\n",
    "    r2 = query(query2)[0]\n",
    "    if r1['ind_count'] == r2['ind_count']:\n",
    "        if verbose:\n",
    "            print(query2)\n",
    "            print(\"Testing assertion:\" + description)\n",
    "            print(\"Result: True\")\n",
    "        return True\n",
    "    else:\n",
    "        if verbose:\n",
    "            print(\"Testing assertion:\" + description)\n",
    "            print(query2)\n",
    "            print(\"Result: inds_in_datset: %d ; Compliant with pattern: %d\" % (r1['ind_count'],  r2['ind_count']))\n",
    "        # Should probably turn this into a report\n",
    "        if write_reports:\n",
    "            bad_inds = list(set(r1['ind_list']) - set(r2['ind_list']))\n",
    "            file = open(dataset + \".report\", 'w')\n",
    "            file.write(json.dumps(bad_inds))\n",
    "            file.close()\n",
    "        return False"
   ]
  },
  {
   "cell_type": "code",
   "execution_count": 115,
   "metadata": {
    "collapsed": true
   },
   "outputs": [],
   "source": [
    "datasets = nc.commit_list([\"MATCH (ds:DataSet) RETURN ds.label\"])\n",
    "dc = results_2_dict_list(datasets)\n",
    "\n",
    "return_state = True\n",
    "test_stats = {}\n",
    "for d in dc:\n",
    "    ds = d['ds.label']\n",
    "    test_stats[ds] = {}"
   ]
  },
  {
   "cell_type": "markdown",
   "metadata": {},
   "source": [
    "# All anatomical individuals in dataset have matching channel individuals."
   ]
  },
  {
   "cell_type": "code",
   "execution_count": 116,
   "metadata": {},
   "outputs": [],
   "source": [
    "runtest(dc, \n",
    "        \"All anatomical individuals in dataset have matching channel individuals.\",\n",
    "        \"\",False,\n",
    "        test_stats)    "
   ]
  },
  {
   "cell_type": "markdown",
   "metadata": {},
   "source": [
    "# All anatomical individuals in dataset have matching registered channel individuals."
   ]
  },
  {
   "cell_type": "code",
   "execution_count": 117,
   "metadata": {},
   "outputs": [],
   "source": [
    "runtest(dc, \n",
    "        \"All anatomical individuals in dataset have matching registered channel individuals.\",\n",
    "        \"-[{ iri: 'http://purl.obolibrary.org/obo/RO_0002026' }]->(k:Individual)\", False,\n",
    "        test_stats)    "
   ]
  },
  {
   "cell_type": "markdown",
   "metadata": {},
   "source": [
    "# All anatomical individuals in dataset have matching channel individuals with imaging method."
   ]
  },
  {
   "cell_type": "code",
   "execution_count": 118,
   "metadata": {},
   "outputs": [],
   "source": [
    "runtest(dc, \n",
    "        \"All anatomical individuals in dataset have matching channel individuals with imaging method.\",\n",
    "        \"-[:Related { label: 'is_specified_output_of'} ]->(:Class)\", False,\n",
    "        test_stats)    "
   ]
  },
  {
   "cell_type": "markdown",
   "metadata": {},
   "source": [
    "# All anatomical individuals in dataset have matching channel, typed individuals."
   ]
  },
  {
   "cell_type": "code",
   "execution_count": 119,
   "metadata": {},
   "outputs": [],
   "source": [
    "runtest(dc, \n",
    "        \"All anatomical individuals in dataset have matching channel, typed individuals.\",\n",
    "        \"-[:INSTANCEOF]->(c:Class { label: 'channel'})\", False,\n",
    "        test_stats)    "
   ]
  },
  {
   "cell_type": "markdown",
   "metadata": {},
   "source": [
    "# All anatomical individuals in dataset are typed."
   ]
  },
  {
   "cell_type": "code",
   "execution_count": 120,
   "metadata": {},
   "outputs": [],
   "source": [
    "runtest(dc, \n",
    "        \"All anatomical individuals in dataset are typed.\",\n",
    "        \"-[:INSTANCEOF]->(c:Class)\", True,\n",
    "        test_stats)    "
   ]
  },
  {
   "cell_type": "markdown",
   "metadata": {},
   "source": [
    "# Results"
   ]
  },
  {
   "cell_type": "code",
   "execution_count": 121,
   "metadata": {
    "scrolled": true
   },
   "outputs": [
    {
     "name": "stdout",
     "output_type": "stream",
     "text": [
      "{\n",
      "    \"Aso2014\": {\n",
      "        \"All anatomical individuals in dataset are typed.\": true,\n",
      "        \"All anatomical individuals in dataset have matching channel individuals with imaging method.\": true,\n",
      "        \"All anatomical individuals in dataset have matching channel individuals.\": true,\n",
      "        \"All anatomical individuals in dataset have matching channel, typed individuals.\": true,\n",
      "        \"All anatomical individuals in dataset have matching registered channel individuals.\": true\n",
      "    },\n",
      "    \"BrainName_Ito_half_brain\": {\n",
      "        \"All anatomical individuals in dataset are typed.\": true,\n",
      "        \"All anatomical individuals in dataset have matching channel individuals with imaging method.\": true,\n",
      "        \"All anatomical individuals in dataset have matching channel individuals.\": true,\n",
      "        \"All anatomical individuals in dataset have matching channel, typed individuals.\": true,\n",
      "        \"All anatomical individuals in dataset have matching registered channel individuals.\": true\n",
      "    },\n",
      "    \"Cachero2010\": {\n",
      "        \"All anatomical individuals in dataset are typed.\": true,\n",
      "        \"All anatomical individuals in dataset have matching channel individuals with imaging method.\": true,\n",
      "        \"All anatomical individuals in dataset have matching channel individuals.\": true,\n",
      "        \"All anatomical individuals in dataset have matching channel, typed individuals.\": true,\n",
      "        \"All anatomical individuals in dataset have matching registered channel individuals.\": true\n",
      "    },\n",
      "    \"Chiang2010\": {\n",
      "        \"All anatomical individuals in dataset are typed.\": true,\n",
      "        \"All anatomical individuals in dataset have matching channel individuals with imaging method.\": true,\n",
      "        \"All anatomical individuals in dataset have matching channel individuals.\": true,\n",
      "        \"All anatomical individuals in dataset have matching channel, typed individuals.\": true,\n",
      "        \"All anatomical individuals in dataset have matching registered channel individuals.\": true\n",
      "    },\n",
      "    \"CostaJefferis_v2\": {\n",
      "        \"All anatomical individuals in dataset are typed.\": true,\n",
      "        \"All anatomical individuals in dataset have matching channel individuals with imaging method.\": true,\n",
      "        \"All anatomical individuals in dataset have matching channel individuals.\": true,\n",
      "        \"All anatomical individuals in dataset have matching channel, typed individuals.\": true,\n",
      "        \"All anatomical individuals in dataset have matching registered channel individuals.\": true\n",
      "    },\n",
      "    \"CostaJefferis_v3\": {\n",
      "        \"All anatomical individuals in dataset are typed.\": true,\n",
      "        \"All anatomical individuals in dataset have matching channel individuals with imaging method.\": true,\n",
      "        \"All anatomical individuals in dataset have matching channel individuals.\": true,\n",
      "        \"All anatomical individuals in dataset have matching channel, typed individuals.\": true,\n",
      "        \"All anatomical individuals in dataset have matching registered channel individuals.\": true\n",
      "    },\n",
      "    \"Dickson_VT\": {\n",
      "        \"All anatomical individuals in dataset are typed.\": true,\n",
      "        \"All anatomical individuals in dataset have matching channel individuals with imaging method.\": true,\n",
      "        \"All anatomical individuals in dataset have matching channel individuals.\": true,\n",
      "        \"All anatomical individuals in dataset have matching channel, typed individuals.\": true,\n",
      "        \"All anatomical individuals in dataset have matching registered channel individuals.\": true\n",
      "    },\n",
      "    \"Ito2013\": {\n",
      "        \"All anatomical individuals in dataset are typed.\": true,\n",
      "        \"All anatomical individuals in dataset have matching channel individuals with imaging method.\": true,\n",
      "        \"All anatomical individuals in dataset have matching channel individuals.\": true,\n",
      "        \"All anatomical individuals in dataset have matching channel, typed individuals.\": true,\n",
      "        \"All anatomical individuals in dataset have matching registered channel individuals.\": true\n",
      "    },\n",
      "    \"Jenett2012\": {\n",
      "        \"All anatomical individuals in dataset are typed.\": true,\n",
      "        \"All anatomical individuals in dataset have matching channel individuals with imaging method.\": true,\n",
      "        \"All anatomical individuals in dataset have matching channel individuals.\": true,\n",
      "        \"All anatomical individuals in dataset have matching channel, typed individuals.\": true,\n",
      "        \"All anatomical individuals in dataset have matching registered channel individuals.\": true\n",
      "    },\n",
      "    \"JenettShinomya_BrainName\": {\n",
      "        \"All anatomical individuals in dataset are typed.\": true,\n",
      "        \"All anatomical individuals in dataset have matching channel individuals with imaging method.\": true,\n",
      "        \"All anatomical individuals in dataset have matching channel individuals.\": true,\n",
      "        \"All anatomical individuals in dataset have matching channel, typed individuals.\": true,\n",
      "        \"All anatomical individuals in dataset have matching registered channel individuals.\": true\n",
      "    },\n",
      "    \"Knowles-Barley2010\": {\n",
      "        \"All anatomical individuals in dataset are typed.\": true,\n",
      "        \"All anatomical individuals in dataset have matching channel individuals with imaging method.\": true,\n",
      "        \"All anatomical individuals in dataset have matching channel individuals.\": true,\n",
      "        \"All anatomical individuals in dataset have matching channel, typed individuals.\": true,\n",
      "        \"All anatomical individuals in dataset have matching registered channel individuals.\": true\n",
      "    },\n",
      "    \"Kohl2013\": {\n",
      "        \"All anatomical individuals in dataset are typed.\": true,\n",
      "        \"All anatomical individuals in dataset have matching channel individuals with imaging method.\": true,\n",
      "        \"All anatomical individuals in dataset have matching channel individuals.\": true,\n",
      "        \"All anatomical individuals in dataset have matching channel, typed individuals.\": true,\n",
      "        \"All anatomical individuals in dataset have matching registered channel individuals.\": true\n",
      "    },\n",
      "    \"Matsuo2016\": {\n",
      "        \"All anatomical individuals in dataset are typed.\": true,\n",
      "        \"All anatomical individuals in dataset have matching channel individuals with imaging method.\": true,\n",
      "        \"All anatomical individuals in dataset have matching channel individuals.\": true,\n",
      "        \"All anatomical individuals in dataset have matching channel, typed individuals.\": true,\n",
      "        \"All anatomical individuals in dataset have matching registered channel individuals.\": true\n",
      "    },\n",
      "    \"Yu2013\": {\n",
      "        \"All anatomical individuals in dataset are typed.\": true,\n",
      "        \"All anatomical individuals in dataset have matching channel individuals with imaging method.\": true,\n",
      "        \"All anatomical individuals in dataset have matching channel individuals.\": true,\n",
      "        \"All anatomical individuals in dataset have matching channel, typed individuals.\": true,\n",
      "        \"All anatomical individuals in dataset have matching registered channel individuals.\": true\n",
      "    }\n",
      "}\n"
     ]
    }
   ],
   "source": [
    "print(json.dumps(test_stats, sort_keys=True, indent=4))"
   ]
  },
  {
   "cell_type": "markdown",
   "metadata": {
    "collapsed": true
   },
   "source": [
    "# Conclusion"
   ]
  },
  {
   "cell_type": "code",
   "execution_count": 122,
   "metadata": {},
   "outputs": [
    {
     "name": "stdout",
     "output_type": "stream",
     "text": [
      "All tests passed!\n"
     ]
    }
   ],
   "source": [
    "failures = flatdict.FlatDict(test_stats).values()\n",
    "fail = False in failures\n",
    "if fail:\n",
    "    failed = failures.count(False)\n",
    "    print(str(failed) + \" out of \" + str(len(failures))+ \" tests failed.\")\n",
    "else:\n",
    "    print(\"All tests passed!\")\n",
    "\n",
    "write_returncode(fail)"
   ]
  },
  {
   "cell_type": "code",
   "execution_count": null,
   "metadata": {
    "collapsed": true
   },
   "outputs": [],
   "source": []
  }
 ],
 "metadata": {
  "kernelspec": {
   "display_name": "Python 3",
   "language": "python",
   "name": "python3"
  },
  "language_info": {
   "codemirror_mode": {
    "name": "ipython",
    "version": 3
   },
   "file_extension": ".py",
   "mimetype": "text/x-python",
   "name": "python",
   "nbconvert_exporter": "python",
   "pygments_lexer": "ipython3",
   "version": "3.6.3"
  }
 },
 "nbformat": 4,
 "nbformat_minor": 2
}
